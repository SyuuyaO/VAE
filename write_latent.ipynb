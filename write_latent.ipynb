{
 "cells": [
  {
   "cell_type": "code",
   "execution_count": 9,
   "id": "1c90a9fe",
   "metadata": {},
   "outputs": [
    {
     "name": "stdout",
     "output_type": "stream",
     "text": [
      "Latent variable z saved to C:\\カプコンインターン\\exceltest\\test.xlsx\n"
     ]
    }
   ],
   "source": [
    "import numpy as np\n",
    "import openpyxl\n",
    "from openpyxl import Workbook \n",
    "\n",
    "\n",
    "output_excel_path = \"C:\\\\カプコンインターン\\\\exceltest\\\\test.xlsx\"\n",
    "# Workbookの作成\n",
    "wb = Workbook()\n",
    "ws = wb.active  # アクティブなシート\n",
    "\n",
    "row = 1\n",
    "column = 1\n",
    "z = np.array([[1.0, 2.0, 3.0],[4,5,6],[7,8.9,10]])\n",
    "\n",
    "\n",
    "for z_vector in z:\n",
    "    # 潜在変数zの各次元を1つの文字列に変換（カンマ区切り）\n",
    "    z_string = ','.join(map(str, z_vector))\n",
    "    \n",
    "    for i in z_string:\n",
    "        # Excelの指定の行（ここではrow）に書き込む\n",
    "        ws.cell(row=row, column=column, value=i)\n",
    "        column += 1\n",
    "    column = 1\n",
    "    row += 1  # 次の行に移動\n",
    "    \n",
    "\n",
    "# Excelファイルとして保存\n",
    "wb.save(output_excel_path)\n",
    "print(f\"Latent variable z saved to {output_excel_path}\")"
   ]
  },
  {
   "cell_type": "code",
   "execution_count": 15,
   "id": "26c6ddf3",
   "metadata": {},
   "outputs": [
    {
     "ename": "ValueError",
     "evalue": "Cannot convert array([1., 2., 3.]) to Excel",
     "output_type": "error",
     "traceback": [
      "\u001b[1;31m---------------------------------------------------------------------------\u001b[0m",
      "\u001b[1;31mValueError\u001b[0m                                Traceback (most recent call last)",
      "Cell \u001b[1;32mIn[15], line 22\u001b[0m\n\u001b[0;32m     18\u001b[0m z_string \u001b[38;5;241m=\u001b[39m np\u001b[38;5;241m.\u001b[39msplit(z_vector,\u001b[38;5;241m1\u001b[39m)\n\u001b[0;32m     20\u001b[0m \u001b[38;5;28;01mfor\u001b[39;00m i \u001b[38;5;129;01min\u001b[39;00m z_string:\n\u001b[0;32m     21\u001b[0m     \u001b[38;5;66;03m# Excelの指定の行（ここではrow）に書き込む\u001b[39;00m\n\u001b[1;32m---> 22\u001b[0m     ws\u001b[38;5;241m.\u001b[39mcell(row\u001b[38;5;241m=\u001b[39mrow, column\u001b[38;5;241m=\u001b[39mcolumn, value\u001b[38;5;241m=\u001b[39mi)\n\u001b[0;32m     23\u001b[0m     column \u001b[38;5;241m+\u001b[39m\u001b[38;5;241m=\u001b[39m \u001b[38;5;241m1\u001b[39m\n\u001b[0;32m     24\u001b[0m column \u001b[38;5;241m=\u001b[39m \u001b[38;5;241m1\u001b[39m\n",
      "File \u001b[1;32m~\\anaconda3\\Lib\\site-packages\\openpyxl\\worksheet\\worksheet.py:242\u001b[0m, in \u001b[0;36mWorksheet.cell\u001b[1;34m(self, row, column, value)\u001b[0m\n\u001b[0;32m    240\u001b[0m cell \u001b[38;5;241m=\u001b[39m \u001b[38;5;28mself\u001b[39m\u001b[38;5;241m.\u001b[39m_get_cell(row, column)\n\u001b[0;32m    241\u001b[0m \u001b[38;5;28;01mif\u001b[39;00m value \u001b[38;5;129;01mis\u001b[39;00m \u001b[38;5;129;01mnot\u001b[39;00m \u001b[38;5;28;01mNone\u001b[39;00m:\n\u001b[1;32m--> 242\u001b[0m     cell\u001b[38;5;241m.\u001b[39mvalue \u001b[38;5;241m=\u001b[39m value\n\u001b[0;32m    244\u001b[0m \u001b[38;5;28;01mreturn\u001b[39;00m cell\n",
      "File \u001b[1;32m~\\anaconda3\\Lib\\site-packages\\openpyxl\\cell\\cell.py:215\u001b[0m, in \u001b[0;36mCell.value\u001b[1;34m(self, value)\u001b[0m\n\u001b[0;32m    212\u001b[0m \u001b[38;5;129m@value\u001b[39m\u001b[38;5;241m.\u001b[39msetter\n\u001b[0;32m    213\u001b[0m \u001b[38;5;28;01mdef\u001b[39;00m \u001b[38;5;21mvalue\u001b[39m(\u001b[38;5;28mself\u001b[39m, value):\n\u001b[0;32m    214\u001b[0m \u001b[38;5;250m    \u001b[39m\u001b[38;5;124;03m\"\"\"Set the value and infer type and display options.\"\"\"\u001b[39;00m\n\u001b[1;32m--> 215\u001b[0m     \u001b[38;5;28mself\u001b[39m\u001b[38;5;241m.\u001b[39m_bind_value(value)\n",
      "File \u001b[1;32m~\\anaconda3\\Lib\\site-packages\\openpyxl\\cell\\cell.py:184\u001b[0m, in \u001b[0;36mCell._bind_value\u001b[1;34m(self, value)\u001b[0m\n\u001b[0;32m    181\u001b[0m     dt \u001b[38;5;241m=\u001b[39m get_type(t, value)\n\u001b[0;32m    183\u001b[0m \u001b[38;5;28;01mif\u001b[39;00m dt \u001b[38;5;129;01mis\u001b[39;00m \u001b[38;5;28;01mNone\u001b[39;00m \u001b[38;5;129;01mand\u001b[39;00m value \u001b[38;5;129;01mis\u001b[39;00m \u001b[38;5;129;01mnot\u001b[39;00m \u001b[38;5;28;01mNone\u001b[39;00m:\n\u001b[1;32m--> 184\u001b[0m     \u001b[38;5;28;01mraise\u001b[39;00m \u001b[38;5;167;01mValueError\u001b[39;00m(\u001b[38;5;124m\"\u001b[39m\u001b[38;5;124mCannot convert \u001b[39m\u001b[38;5;132;01m{0!r}\u001b[39;00m\u001b[38;5;124m to Excel\u001b[39m\u001b[38;5;124m\"\u001b[39m\u001b[38;5;241m.\u001b[39mformat(value))\n\u001b[0;32m    186\u001b[0m \u001b[38;5;28;01mif\u001b[39;00m dt:\n\u001b[0;32m    187\u001b[0m     \u001b[38;5;28mself\u001b[39m\u001b[38;5;241m.\u001b[39mdata_type \u001b[38;5;241m=\u001b[39m dt\n",
      "\u001b[1;31mValueError\u001b[0m: Cannot convert array([1., 2., 3.]) to Excel"
     ]
    }
   ],
   "source": [
    "import numpy as np\n",
    "import openpyxl\n",
    "from openpyxl import Workbook \n",
    "\n",
    "\n",
    "output_excel_path = \"C:\\\\カプコンインターン\\\\exceltest\\\\test.xlsx\"\n",
    "# Workbookの作成\n",
    "wb = Workbook()\n",
    "ws = wb.active  # アクティブなシート\n",
    "\n",
    "row = 1\n",
    "column = 1\n",
    "z = np.array([[1.0, 2.0, 3.0],[4,5,6],[7,8.9,10]])\n",
    "\n",
    "\n",
    "for z_vector in z:\n",
    "    # 潜在変数zの各次元を1つの文字列に変換（カンマ区切り）\n",
    "    z_string = np.split(z_vector,1)\n",
    "    \n",
    "    for i in z_string:\n",
    "        # Excelの指定の行（ここではrow）に書き込む\n",
    "        ws.cell(row=row, column=column, value=i)\n",
    "        column += 1\n",
    "    column = 1\n",
    "    row += 1  # 次の行に移動\n",
    "    \n",
    "\n",
    "# Excelファイルとして保存\n",
    "wb.save(output_excel_path)\n",
    "print(f\"Latent variable z saved to {output_excel_path}\")"
   ]
  },
  {
   "cell_type": "code",
   "execution_count": 14,
   "id": "00a1845a",
   "metadata": {},
   "outputs": [
    {
     "ename": "NameError",
     "evalue": "name 's' is not defined",
     "output_type": "error",
     "traceback": [
      "\u001b[1;31m---------------------------------------------------------------------------\u001b[0m",
      "\u001b[1;31mNameError\u001b[0m                                 Traceback (most recent call last)",
      "Cell \u001b[1;32mIn[14], line 1\u001b[0m\n\u001b[1;32m----> 1\u001b[0m s\u001b[38;5;241m.\u001b[39msplit(\u001b[38;5;124m'\u001b[39m\u001b[38;5;124m, \u001b[39m\u001b[38;5;124m'\u001b[39m)\n",
      "\u001b[1;31mNameError\u001b[0m: name 's' is not defined"
     ]
    }
   ],
   "source": [
    "s.split(', ')\n"
   ]
  },
  {
   "cell_type": "code",
   "execution_count": 17,
   "id": "ffb64a7d",
   "metadata": {},
   "outputs": [
    {
     "ename": "ValueError",
     "evalue": "setting an array element with a sequence. The requested array has an inhomogeneous shape after 1 dimensions. The detected shape was (3,) + inhomogeneous part.",
     "output_type": "error",
     "traceback": [
      "\u001b[1;31m---------------------------------------------------------------------------\u001b[0m",
      "\u001b[1;31mValueError\u001b[0m                                Traceback (most recent call last)",
      "Cell \u001b[1;32mIn[17], line 12\u001b[0m\n\u001b[0;32m     10\u001b[0m row \u001b[38;5;241m=\u001b[39m \u001b[38;5;241m1\u001b[39m\n\u001b[0;32m     11\u001b[0m column \u001b[38;5;241m=\u001b[39m \u001b[38;5;241m1\u001b[39m\n\u001b[1;32m---> 12\u001b[0m z \u001b[38;5;241m=\u001b[39m np\u001b[38;5;241m.\u001b[39marray([[\u001b[38;5;241m1.0\u001b[39m, \u001b[38;5;241m2.0\u001b[39m, \u001b[38;5;241m3.0\u001b[39m],[\u001b[38;5;241m4\u001b[39m, \u001b[38;5;241m5\u001b[39m, \u001b[38;5;241m6\u001b[39m],[\u001b[38;5;241m7\u001b[39m, \u001b[38;5;241m8\u001b[39m, \u001b[38;5;241m9\u001b[39m, \u001b[38;5;241m10\u001b[39m]])\n\u001b[0;32m     14\u001b[0m \u001b[38;5;28;01mfor\u001b[39;00m z_vector \u001b[38;5;129;01min\u001b[39;00m z:\n\u001b[0;32m     15\u001b[0m     \u001b[38;5;28;01mfor\u001b[39;00m i \u001b[38;5;129;01min\u001b[39;00m z_vector:\n\u001b[0;32m     16\u001b[0m         \u001b[38;5;66;03m# Excelの指定の行（ここではrow）に書き込む\u001b[39;00m\n",
      "\u001b[1;31mValueError\u001b[0m: setting an array element with a sequence. The requested array has an inhomogeneous shape after 1 dimensions. The detected shape was (3,) + inhomogeneous part."
     ]
    }
   ],
   "source": [
    "import numpy as np\n",
    "import openpyxl\n",
    "from openpyxl import Workbook\n",
    "\n",
    "output_excel_path = \"C:\\\\カプコンインターン\\\\exceltest\\\\test.xlsx\"\n",
    "# Workbookの作成\n",
    "wb = Workbook()\n",
    "ws = wb.active  # アクティブなシート\n",
    "\n",
    "row = 1\n",
    "column = 1\n",
    "z = np.array([[1.0, 2.0, 3.0],[4, 5, 6],[7, 8, 9, 10]])\n",
    "\n",
    "for z_vector in z:\n",
    "    for i in z_vector:\n",
    "        # Excelの指定の行（ここではrow）に書き込む\n",
    "        ws.cell(row=row, column=column, value=i)\n",
    "        column += 1\n",
    "    column = 1  # 次の行に移る際に列をリセット\n",
    "    row += 1    # 次の行に移動\n",
    "\n",
    "# Excelファイルとして保存\n",
    "wb.save(output_excel_path)\n",
    "print(f\"Latent variable z saved to {output_excel_path}\")\n"
   ]
  },
  {
   "cell_type": "code",
   "execution_count": 19,
   "id": "f80ee774",
   "metadata": {},
   "outputs": [
    {
     "name": "stdout",
     "output_type": "stream",
     "text": [
      "Latent variable z saved to C:\\カプコンインターン\\exceltest\\test.xlsx\n"
     ]
    }
   ],
   "source": [
    "import openpyxl\n",
    "from openpyxl import Workbook\n",
    "\n",
    "output_excel_path = \"C:\\\\カプコンインターン\\\\exceltest\\\\test.xlsx\"\n",
    "# Workbookの作成\n",
    "wb = Workbook()\n",
    "ws = wb.active  # アクティブなシート\n",
    "\n",
    "row = 1\n",
    "column = 1\n",
    "# 異なる長さのリスト\n",
    "z = [[1.0, 2.0, 3.0], [4, 5, 6], [7, 8, 9, 10]]\n",
    "\n",
    "for z_vector in z:\n",
    "    for i in z_vector:\n",
    "        # Excelの指定の行（ここではrow）に書き込む\n",
    "        ws.cell(row=row, column=column, value=i)\n",
    "        column += 1\n",
    "    column = 1  # 次の行に移る際に列をリセット\n",
    "    row += 1    # 次の行に移動\n",
    "\n",
    "# Excelファイルとして保存\n",
    "wb.save(output_excel_path)\n",
    "print(f\"Latent variable z saved to {output_excel_path}\")\n"
   ]
  },
  {
   "cell_type": "code",
   "execution_count": null,
   "id": "6324d0fb",
   "metadata": {},
   "outputs": [],
   "source": [
    "import torch\n",
    "\n",
    "# 例としてのTensor\n",
    "tensor_array = torch.tensor([[1.0, 2.0, 3.0], [4, 5, 6], [7, 8, 9, 10]])\n",
    "\n",
    "# Tensorをリストに変換\n",
    "list_array = tensor_array.tolist()\n",
    "\n",
    "print(list_array)\n"
   ]
  }
 ],
 "metadata": {
  "kernelspec": {
   "display_name": "Python 3 (ipykernel)",
   "language": "python",
   "name": "python3"
  },
  "language_info": {
   "codemirror_mode": {
    "name": "ipython",
    "version": 3
   },
   "file_extension": ".py",
   "mimetype": "text/x-python",
   "name": "python",
   "nbconvert_exporter": "python",
   "pygments_lexer": "ipython3",
   "version": "3.11.4"
  }
 },
 "nbformat": 4,
 "nbformat_minor": 5
}
